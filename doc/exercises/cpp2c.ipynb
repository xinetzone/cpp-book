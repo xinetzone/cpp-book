{
 "cells": [
  {
   "cell_type": "markdown",
   "metadata": {},
   "source": [
    "# C 调用 C++"
   ]
  },
  {
   "cell_type": "markdown",
   "metadata": {},
   "source": [
    "在 C 中引用 C++ 语言中的函数和变量时， C++ 的头文件需添加 `extern \"C\"`，但是在 C 语言中不能直接引用声明了 `extern \"C\"` 的该头文件（因为 C 语言不支持 `extern \"C\"` 关键字，所以会报编译错误），应该仅在 C 文件中用 `extern` 声明 C++ 中定义的 `extern \"C\"` 函数（就是 C++ 中用 `extern \"C\"` 声明的函数，在 C 中用 `extern` 来声明一下，这样 C 就能引用 C++ 的函数了，但是 C 中是不用 `extern \"C\"` 的）。"
   ]
  },
  {
   "cell_type": "markdown",
   "metadata": {},
   "source": [
    "```c\n",
    "//C++头文件 cppExample.h\n",
    "#ifndef CPP_EXAMPLE_H\n",
    "#define CPP_EXAMPLE_H\n",
    "extern \"C\" int add( int x, int y );\n",
    "#endif\n",
    "\n",
    "//C++实现文件 cppExample.cpp\n",
    "#include \"cppExample.h\"\n",
    "int add( int x, int y )\n",
    "{\n",
    "    return x + y;\n",
    "}\n",
    "\n",
    "/* C实现文件 cFile.c\n",
    "/* 这样会编译出错：#include \"cExample.h\" */\n",
    "extern int add( int x, int y );\n",
    "\n",
    "int main( int argc, char* argv[] )\n",
    "{\n",
    "    add( 2, 3 );   \n",
    "    return 0;\n",
    "}\n",
    "```"
   ]
  },
  {
   "cell_type": "code",
   "execution_count": null,
   "metadata": {},
   "outputs": [],
   "source": []
  }
 ],
 "metadata": {
  "kernelspec": {
   "display_name": "C++14",
   "language": "C++14",
   "name": "xcpp14"
  },
  "language_info": {
   "codemirror_mode": "text/x-c++src",
   "file_extension": ".cpp",
   "mimetype": "text/x-c++src",
   "name": "c++",
   "version": "14"
  }
 },
 "nbformat": 4,
 "nbformat_minor": 2
}
