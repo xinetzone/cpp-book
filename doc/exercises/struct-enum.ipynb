{
 "cells": [
  {
   "cell_type": "markdown",
   "metadata": {},
   "source": [
    "# struct+enum\n",
    "\n",
    "在 C++ 中，`struct TypeIndex { enum { ... } };` 这种组合使用方式主要有以下设计目的：\n",
    "\n",
    "- 作用域封装\n",
    "    - 将枚举常量封装在结构体作用域内，避免全局命名空间污染\n",
    "    - 访问时必须使用 `TypeIndex::kRoot` 的完整形式，提高代码可读性\n",
    "- 类型安全\n",
    "    - 相比普通枚举，结构体嵌套枚举能提供更好的类型检查\n",
    "    - 防止与其他模块的同名枚举值冲突\n",
    "- 扩展性设计\n",
    "    - 预留未来添加静态方法的可能性（如转换方法）\n",
    "    - 保持与旧代码兼容的同时支持新特性\n",
    "- API 设计考量\n",
    "    ```cpp\n",
    "    // 对比普通枚举的访问方式\n",
    "    TypeIndex::kRoot  // 结构体+枚举方式\n",
    "    TYPE_INDEX_ROOT   // 传统宏定义方式（更易冲突）\n",
    "    ```\n",
    "- 二进制兼容\n",
    "    - 保持枚举值的底层类型固定（默认 `int`）\n",
    "    - 不同编译器/平台间保持稳定\n",
    "- 文档组织\n",
    "    - 通过结构体注释集中说明所有相关枚举的用途\n",
    "    - 示例代码中清晰地展示了TVM核心类型的索引分配：\n",
    "    ```cpp\n",
    "    struct TypeIndex {\n",
    "    enum {\n",
    "        kRoot = 0,              // 根对象\n",
    "        kRuntimeModule = 1,     // 模块\n",
    "        kRuntimeNDArray = 2,    // 多维数组\n",
    "        // ... 其他核心类型\n",
    "        kDynamic = 12           // 动态分配类型\n",
    "    };\n",
    "    };\n",
    "    ```"
   ]
  },
  {
   "cell_type": "markdown",
   "metadata": {},
   "source": [
    "这种设计模式在系统级编程中非常常见（如 LLVM、Clang 等编译器基础架构），既能保持代码整洁，又能为未来的扩展保留灵活性。"
   ]
  },
  {
   "cell_type": "code",
   "execution_count": 3,
   "metadata": {},
   "outputs": [],
   "source": [
    "struct Type {\n",
    "enum {\n",
    "    kName = 0, // 类型名称\n",
    "    kId = 1, // 类型 ID\n",
    "};\n",
    "};"
   ]
  },
  {
   "cell_type": "code",
   "execution_count": 8,
   "metadata": {},
   "outputs": [
    {
     "data": {
      "text/plain": [
       "0"
      ]
     },
     "execution_count": 8,
     "metadata": {},
     "output_type": "execute_result"
    }
   ],
   "source": [
    "static constexpr const uint32_t _type_name = Type::kName;\n",
    "_type_name"
   ]
  },
  {
   "cell_type": "code",
   "execution_count": null,
   "metadata": {},
   "outputs": [],
   "source": []
  }
 ],
 "metadata": {
  "kernelspec": {
   "display_name": "C++14",
   "language": "C++14",
   "name": "xcpp14"
  },
  "language_info": {
   "codemirror_mode": "text/x-c++src",
   "file_extension": ".cpp",
   "mimetype": "text/x-c++src",
   "name": "c++",
   "version": "14"
  }
 },
 "nbformat": 4,
 "nbformat_minor": 2
}
