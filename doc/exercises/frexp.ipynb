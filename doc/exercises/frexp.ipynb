{
 "cells": [
  {
   "attachments": {},
   "cell_type": "markdown",
   "metadata": {},
   "source": [
    "# 获取浮点数的尾数和指数\n",
    "\n",
    "参考：[frexp](https://learn.microsoft.com/zh-cn/cpp/c-runtime-library/reference/frexp)\n",
    "\n",
    "```c++\n",
    "float frexp(\n",
    "   float x,\n",
    "   int * expptr\n",
    ");  // C++ only\n",
    "long double frexp(\n",
    "   long double x,\n",
    "   int * expptr\n",
    ");  // C++ only\n",
    "```\n",
    "\n",
    "参数：\n",
    "\n",
    "- `x`：浮点值。\n",
    "- `expptr`：指向存储的整数指数的指针。\n",
    "\n",
    "{func}`frexp` 返回尾数。 如果 `x` 为 `0`，则该函数将返回 `0` 表示尾数和指数。 `NULL` 如果是 `expptr`，则调用无效的参数处理程序，如参数验证中所述。 如果允许执行继续，则该函数将 `errno` 设置为 `EINVAL` 并返回 `0`。\n",
    "\n",
    "```{note}\n",
    "`frexp` 函数将浮点值（`x`）分解为尾数（mantissa `m`）和指数（exponent，`n`），使绝对值 `m` 大于或等于 `0.5` 且小于 `1.0`，并且 $x = m * 2^n$。整数指数 `n` 存储在由 `expptr` 指向的位置。\n",
    "```"
   ]
  },
  {
   "cell_type": "code",
   "execution_count": 1,
   "metadata": {
    "vscode": {
     "languageId": "c++"
    }
   },
   "outputs": [
    {
     "name": "stdout",
     "output_type": "stream",
     "text": [
      "std::frexp(x, &n) => 16.4 = 0.5125 * (1 << 5)"
     ]
    }
   ],
   "source": [
    "#include <math.h>\n",
    "#include <iostream>\n",
    "\n",
    "double x, y;\n",
    "int n;\n",
    "x = 16.4;\n",
    "y = frexp(x, &n);\n",
    "std::cout << \"std::frexp(x, &n) => \" \n",
    "         << x << \" = \" << y << \" * \"\n",
    "         << \"(1 << \" << n << \")\";"
   ]
  },
  {
   "cell_type": "code",
   "execution_count": 7,
   "metadata": {
    "vscode": {
     "languageId": "c++"
    }
   },
   "outputs": [],
   "source": [
    "double x = 2.302585093;\n",
    "double y;\n",
    "\n",
    "y = exp(x);"
   ]
  },
  {
   "cell_type": "code",
   "execution_count": 10,
   "metadata": {
    "vscode": {
     "languageId": "c++"
    }
   },
   "outputs": [],
   "source": [
    "double sigmoid(double x) {\n",
    "    return 1/(1+exp(-x));\n",
    "}"
   ]
  },
  {
   "cell_type": "code",
   "execution_count": 11,
   "metadata": {
    "vscode": {
     "languageId": "c++"
    }
   },
   "outputs": [
    {
     "data": {
      "text/plain": [
       "0.73105858"
      ]
     },
     "execution_count": 11,
     "metadata": {},
     "output_type": "execute_result"
    }
   ],
   "source": [
    "sigmoid(1)"
   ]
  },
  {
   "cell_type": "code",
   "execution_count": 12,
   "metadata": {
    "vscode": {
     "languageId": "c++"
    }
   },
   "outputs": [
    {
     "data": {
      "text/plain": [
       "0.50000000"
      ]
     },
     "execution_count": 12,
     "metadata": {},
     "output_type": "execute_result"
    }
   ],
   "source": [
    "sigmoid(0)"
   ]
  },
  {
   "cell_type": "code",
   "execution_count": 13,
   "metadata": {
    "vscode": {
     "languageId": "c++"
    }
   },
   "outputs": [
    {
     "data": {
      "text/plain": [
       "2.0000000"
      ]
     },
     "execution_count": 13,
     "metadata": {},
     "output_type": "execute_result"
    }
   ],
   "source": [
    "1/(0.5)"
   ]
  },
  {
   "cell_type": "code",
   "execution_count": 14,
   "metadata": {
    "vscode": {
     "languageId": "c++"
    }
   },
   "outputs": [
    {
     "data": {
      "text/plain": [
       "0"
      ]
     },
     "execution_count": 14,
     "metadata": {},
     "output_type": "execute_result"
    }
   ],
   "source": [
    "1/2"
   ]
  },
  {
   "cell_type": "code",
   "execution_count": 16,
   "metadata": {
    "vscode": {
     "languageId": "c++"
    }
   },
   "outputs": [
    {
     "data": {
      "text/plain": [
       "50.000000"
      ]
     },
     "execution_count": 16,
     "metadata": {},
     "output_type": "execute_result"
    }
   ],
   "source": [
    "0.5 * 100"
   ]
  },
  {
   "cell_type": "code",
   "execution_count": null,
   "metadata": {
    "vscode": {
     "languageId": "c++"
    }
   },
   "outputs": [],
   "source": []
  }
 ],
 "metadata": {
  "kernelspec": {
   "display_name": "C++14",
   "language": "C++14",
   "name": "xcpp14"
  },
  "language_info": {
   "codemirror_mode": "text/x-c++src",
   "file_extension": ".cpp",
   "mimetype": "text/x-c++src",
   "name": "C++14",
   "version": "14"
  },
  "orig_nbformat": 4
 },
 "nbformat": 4,
 "nbformat_minor": 2
}
